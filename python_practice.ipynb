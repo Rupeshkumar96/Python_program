{
 "cells": [
  {
   "cell_type": "markdown",
   "id": "4412f877-db84-4b31-911a-30ef8d7e7404",
   "metadata": {},
   "source": [
    "## Python practice question"
   ]
  },
  {
   "cell_type": "code",
   "execution_count": null,
   "id": "cac07b86-625c-4f4b-9d4d-88d6d49ca751",
   "metadata": {},
   "outputs": [],
   "source": []
  },
  {
   "cell_type": "markdown",
   "id": "ff1178b1-628b-4edd-b3c6-623561d6c260",
   "metadata": {},
   "source": [
    "## Question 1 Write a python program to calculate simple interest by taking Principal,Rate,and Time as input from the user.\n"
   ]
  },
  {
   "cell_type": "code",
   "execution_count": 3,
   "id": "8c6bc56d-7056-4556-b9c0-0fb9e600704f",
   "metadata": {},
   "outputs": [
    {
     "name": "stdin",
     "output_type": "stream",
     "text": [
      "Enter Principal amount 5000\n",
      "Enter Rate of interset 10\n",
      "Enter the time  in years 2\n"
     ]
    },
    {
     "name": "stdout",
     "output_type": "stream",
     "text": [
      "The simple amount of 1000.0\n"
     ]
    }
   ],
   "source": [
    "p=int(input(\"Enter Principal amount\"))\n",
    "r=int(input(\"Enter Rate of interset\"))\n",
    "t=int(input(\"Enter the time  in years\"))\n",
    "si=(p*r*t)/100\n",
    "print(\"The simple amount of\",si)"
   ]
  },
  {
   "cell_type": "markdown",
   "id": "8af5565f-97a6-4ffc-a8e6-8bd1dab20981",
   "metadata": {},
   "source": [
    "## Question 2 Write a python program to check whether a number entered by the user is positive,negative or zero."
   ]
  },
  {
   "cell_type": "code",
   "execution_count": 6,
   "id": "16720056-fe1d-4b1a-8820-d4bb90c58a07",
   "metadata": {},
   "outputs": [
    {
     "name": "stdin",
     "output_type": "stream",
     "text": [
      "Enter a number: 25\n"
     ]
    },
    {
     "name": "stdout",
     "output_type": "stream",
     "text": [
      "positive\n"
     ]
    }
   ],
   "source": [
    "n=int(input(\"Enter a number:\"))\n",
    "if n>0:\n",
    "    print(\"positive\")\n",
    "elif n<0:\n",
    "    print(\"Negative\")\n",
    "else:\n",
    "    print(\"zero\")"
   ]
  },
  {
   "cell_type": "markdown",
   "id": "7467354d-97b2-48e6-9aa3-768106441abd",
   "metadata": {},
   "source": [
    "## Question 3 Check the number is entered is even or odd"
   ]
  },
  {
   "cell_type": "code",
   "execution_count": 9,
   "id": "96a0e376-a497-4d15-8e37-43a63da3288c",
   "metadata": {},
   "outputs": [
    {
     "name": "stdin",
     "output_type": "stream",
     "text": [
      "enter a number 5\n"
     ]
    },
    {
     "name": "stdout",
     "output_type": "stream",
     "text": [
      "The number 5 is odd\n"
     ]
    }
   ],
   "source": [
    "n=int(input(\"enter a number\"))\n",
    "if n%2==0:\n",
    "    print(f'The number{n} is even')\n",
    "else:\n",
    "    print(f'The number {n} is odd')"
   ]
  },
  {
   "cell_type": "markdown",
   "id": "1e4abf75-e55d-4060-9320-9060d802cd72",
   "metadata": {},
   "source": [
    "## Question 4 Check given email is valid or not.\n"
   ]
  },
  {
   "cell_type": "code",
   "execution_count": 16,
   "id": "bf32b0fd-b909-42a5-a753-209e263e1d8d",
   "metadata": {},
   "outputs": [
    {
     "name": "stdin",
     "output_type": "stream",
     "text": [
      "enter a gmail id rupesh.com\n"
     ]
    },
    {
     "name": "stdout",
     "output_type": "stream",
     "text": [
      "it is not valid\n"
     ]
    }
   ],
   "source": [
    "mail=input(\"enter a gmail id\")\n",
    "if '@' in mail and '.' in mail:\n",
    "    print(f' it is mail valid')\n",
    "else:\n",
    "    print(f'it is not valid')\n",
    "    "
   ]
  },
  {
   "cell_type": "markdown",
   "id": "b872c907-eab7-4f95-9bce-f273a904ee08",
   "metadata": {},
   "source": [
    "## Question 5 Write a python program to check if the input string contains only digit\n"
   ]
  },
  {
   "cell_type": "code",
   "execution_count": 21,
   "id": "6a9633b3-e44e-4d8c-be55-0d035211fb9b",
   "metadata": {},
   "outputs": [
    {
     "name": "stdin",
     "output_type": "stream",
     "text": [
      "enter a string 123\n"
     ]
    },
    {
     "name": "stdout",
     "output_type": "stream",
     "text": [
      "enter a sting is numeric=123\n"
     ]
    }
   ],
   "source": [
    "s=input(\"enter a string\")\n",
    "if s.isdigit():\n",
    "    print(f\"enter a sting is numeric={s}\")\n",
    "else:\n",
    "    print(f\"enter a string is not numeric={s}\")"
   ]
  },
  {
   "cell_type": "markdown",
   "id": "b46ce81c-f55a-418c-b8fb-6388997f82ba",
   "metadata": {},
   "source": [
    "## Question 6 Write a python program to check the strength of a password\n",
    "## rule:\n",
    "## 6->weak\n",
    "## contains digit+letter ->strong\n",
    "## else->Modrate"
   ]
  },
  {
   "cell_type": "code",
   "execution_count": 34,
   "id": "d716161b-8630-479f-9b52-e323abd9c061",
   "metadata": {},
   "outputs": [
    {
     "name": "stdin",
     "output_type": "stream",
     "text": [
      "enter a pass dfg56\n"
     ]
    },
    {
     "name": "stdout",
     "output_type": "stream",
     "text": [
      "Strong pass=dfg56\n"
     ]
    }
   ],
   "source": [
    "pas=input(\"enter a pass\")\n",
    "if len(pas)>6:\n",
    "    print(f'the pass={pas} is weak')\n",
    "elif any(p.isdigit() for p in pas) and any(p.isalpha() for p in pas):\n",
    "    print(f'Strong pass={pas}')\n",
    "else:\n",
    "    print(f'the password is modrate')"
   ]
  },
  {
   "cell_type": "markdown",
   "id": "de875f4c-4e1c-4148-aa83-9dd9d62f0995",
   "metadata": {},
   "source": [
    "## Question 7 Write a python program to calculate the length of string.\n",
    "## rules:\n",
    "## 5<Short\n",
    "## 6-10> Medium\n",
    "## 10> Long"
   ]
  },
  {
   "cell_type": "code",
   "execution_count": 39,
   "id": "7dd58c44-b464-4e42-8f80-dcf7d3b4e917",
   "metadata": {},
   "outputs": [
    {
     "name": "stdin",
     "output_type": "stream",
     "text": [
      "enter a string asdfghjkl\n"
     ]
    },
    {
     "name": "stdout",
     "output_type": "stream",
     "text": [
      "the str =asdfghjkl is medium\n"
     ]
    }
   ],
   "source": [
    "str=input(\"enter a string\")\n",
    "if len(str)<5:\n",
    "    print(f'the str={str} is short')\n",
    "elif len(str)<10:\n",
    "    print(f'the str ={str} is medium')\n",
    "else:\n",
    "    print(f'the str is long string')\n"
   ]
  },
  {
   "cell_type": "markdown",
   "id": "f7bde990-b945-4a99-90fb-b28ea7557481",
   "metadata": {},
   "source": [
    "## Question 8 Write a program to check the two string last letter is same or not.\n"
   ]
  },
  {
   "cell_type": "code",
   "execution_count": 44,
   "id": "c4ab530d-725f-4e0e-8cef-cd6e0320199b",
   "metadata": {},
   "outputs": [
    {
     "name": "stdin",
     "output_type": "stream",
     "text": [
      "enter a string: semms\n"
     ]
    },
    {
     "name": "stdout",
     "output_type": "stream",
     "text": [
      "the string are matched\n"
     ]
    }
   ],
   "source": [
    "s=input(\"enter a string:\")\n",
    "if s[0]==s[-1]:\n",
    "    print(f'the string are matched')\n",
    "else:\n",
    "    print(f'the string is not match')"
   ]
  },
  {
   "cell_type": "markdown",
   "id": "f2e51d95-5152-4416-80df-201cc34ad061",
   "metadata": {},
   "source": [
    "## Question 9 Write a code to check the person is eligible to vote or not using 18+\n"
   ]
  },
  {
   "cell_type": "code",
   "execution_count": 50,
   "id": "b50541db-3bb3-41ce-91b5-3289fdb75cae",
   "metadata": {},
   "outputs": [
    {
     "name": "stdin",
     "output_type": "stream",
     "text": [
      "enter your age 15\n"
     ]
    },
    {
     "name": "stdout",
     "output_type": "stream",
     "text": [
      "not eligible for vote\n"
     ]
    }
   ],
   "source": [
    "s=int(input(\"enter your age\"))\n",
    "if s<18:\n",
    "    print(f'not eligible for vote')\n",
    "else:\n",
    "    print(f'eligble for vote')\n"
   ]
  },
  {
   "cell_type": "markdown",
   "id": "529babf0-72bf-4e20-a77e-ec9ad7efe525",
   "metadata": {},
   "source": [
    "## Question 10 Take the three numbers from the user and find the largest one."
   ]
  },
  {
   "cell_type": "code",
   "execution_count": 56,
   "id": "0b75c4ab-998f-4f2f-8ac6-a174dbe6bdfc",
   "metadata": {},
   "outputs": [
    {
     "name": "stdin",
     "output_type": "stream",
     "text": [
      "enter a number 10\n",
      "enter a number 11\n",
      "enter a number 12\n"
     ]
    },
    {
     "name": "stdout",
     "output_type": "stream",
     "text": [
      "the largest number is=12\n"
     ]
    }
   ],
   "source": [
    "a=int(input(\"enter a number\"))\n",
    "b=int(input(\"enter a number\"))\n",
    "c=int(input(\"enter a number\"))\n",
    "if a>b and a>c:\n",
    "    print(f'the largest number is={a}')\n",
    "elif b>c and b>a:\n",
    "    print(f'the largest number is={b}')\n",
    "else:\n",
    "    print(f'the largest number is={c}')"
   ]
  },
  {
   "cell_type": "markdown",
   "id": "18e0afc1-1f9e-403c-8b5c-bc9cd92b7039",
   "metadata": {},
   "source": [
    "## Question 11 Write a pyhton program to create a simple calculator that perform addition,substraction,multiplication,ot division based on user choice.\n"
   ]
  },
  {
   "cell_type": "code",
   "execution_count": 10,
   "id": "d9769c73-0d09-4f31-98b2-a9b086c0e265",
   "metadata": {},
   "outputs": [
    {
     "name": "stdin",
     "output_type": "stream",
     "text": [
      "enter a  number 5\n",
      "enter second number 0\n",
      "enter a operator(/ * - +) /\n"
     ]
    },
    {
     "name": "stdout",
     "output_type": "stream",
     "text": [
      "Change the number because not possible to divide by 0\n"
     ]
    }
   ],
   "source": [
    "a=float(input(\"enter a  number\"))\n",
    "b=float(input(\"enter second number\"))\n",
    "oper=input(\"enter a operator(/ * - +)\")\n",
    "if oper== \"/\":\n",
    "    if b!=0:\n",
    "        print(f'The division of two number is{a/b}')\n",
    "    else:\n",
    "        print(\"Change the number because not possible to divide by 0\")\n",
    "elif oper == \"*\":\n",
    "    print(f\"The multiplication is={a*b}\")\n",
    "elif oper == \"-\":\n",
    "    print(f'The sub of two number is={a-b}')\n",
    "else:\n",
    "    print(f'The sum of two number is={a+b}')"
   ]
  },
  {
   "cell_type": "markdown",
   "id": "fa96e4f7-e3a5-4a51-94b2-be57a0353ff8",
   "metadata": {},
   "source": [
    "## Question 12 Take a year and check it is leap year or not.\n"
   ]
  },
  {
   "cell_type": "code",
   "execution_count": 17,
   "id": "648736ab-6437-4088-9321-fdf908dd4692",
   "metadata": {},
   "outputs": [
    {
     "name": "stdin",
     "output_type": "stream",
     "text": [
      "enter a year 2024\n"
     ]
    },
    {
     "name": "stdout",
     "output_type": "stream",
     "text": [
      "2024 it is a leap year\n"
     ]
    }
   ],
   "source": [
    "year=int(input(\"enter a year\"))\n",
    "if(year % 400==0)or(year % 4==0 and year % 100!=0):\n",
    "    print(year,'it is a leap year')\n",
    "else:\n",
    "    print(\"it is not a leap year\")"
   ]
  },
  {
   "cell_type": "markdown",
   "id": "9489947e-5ddf-4e7d-a8c9-97747fbbaceb",
   "metadata": {},
   "source": [
    "## Question 13 Write a python program to calculate the electricity bill.\n",
    "## Rule:\n",
    "## units<= 100 ->5rs,101-500->7rs,500> 10rs"
   ]
  },
  {
   "cell_type": "code",
   "execution_count": 20,
   "id": "b4e48cd3-f145-45a9-bd11-1bf2d876c8e6",
   "metadata": {},
   "outputs": [
    {
     "name": "stdin",
     "output_type": "stream",
     "text": [
      "enter a electric unit usage 400\n"
     ]
    },
    {
     "name": "stdout",
     "output_type": "stream",
     "text": [
      "The electicity bill is=2800\n"
     ]
    }
   ],
   "source": [
    "units=int(input(\"enter a electric unit usage\"))\n",
    "if units<=100:\n",
    "    bill=units*5\n",
    "elif units<=500:\n",
    "    bill=units*7\n",
    "else:\n",
    "    bill=units*10\n",
    "print(f\"The electicity bill is={bill}\")"
   ]
  },
  {
   "cell_type": "markdown",
   "id": "239027d1-a91f-41ec-8f36-0b865cf13b25",
   "metadata": {},
   "source": [
    "## Question 14 Write a program to calculate a final price after discount."
   ]
  },
  {
   "cell_type": "code",
   "execution_count": 27,
   "id": "a180512e-c161-4f33-a23a-a8b1b45d1565",
   "metadata": {},
   "outputs": [
    {
     "name": "stdin",
     "output_type": "stream",
     "text": [
      "enter a number 2500\n"
     ]
    },
    {
     "name": "stdout",
     "output_type": "stream",
     "text": [
      "After discount the final price is=2250.0 \n"
     ]
    }
   ],
   "source": [
    "amt=float(input(\"enter a number\"))\n",
    "if amt>5000:\n",
    "    discount=amt*0.20\n",
    "elif amt>2000:\n",
    "    discount=amt*0.10\n",
    "else:\n",
    "    discount=0\n",
    "print(f\"After discount the final price is={amt-discount} \")"
   ]
  },
  {
   "cell_type": "markdown",
   "id": "c183b34a-e06e-4bb6-b505-9826c5682649",
   "metadata": {},
   "source": [
    "## Question 15 Write a program to check the given string is palimdrome or not."
   ]
  },
  {
   "cell_type": "code",
   "execution_count": 36,
   "id": "64be31fe-9d70-446a-99c9-497e55e07b36",
   "metadata": {},
   "outputs": [
    {
     "name": "stdin",
     "output_type": "stream",
     "text": [
      "Enter a String dad\n"
     ]
    },
    {
     "name": "stdout",
     "output_type": "stream",
     "text": [
      "it is a palimdrom \n"
     ]
    }
   ],
   "source": [
    "str=input(\"Enter a String\")\n",
    "str2=str[::-1]\n",
    "if str== str2:\n",
    "    print(\"it is a palimdrom \")\n",
    "else:\n",
    "    print(\"it is a not palimdrome\")"
   ]
  },
  {
   "cell_type": "markdown",
   "id": "7a450231-eff5-42cf-ad2a-2c778e1b78fb",
   "metadata": {},
   "source": [
    "## Question 16 write a program to count the vowels in string."
   ]
  },
  {
   "cell_type": "code",
   "execution_count": 39,
   "id": "2283820e-968f-4699-9d11-bc85c73f1434",
   "metadata": {},
   "outputs": [
    {
     "name": "stdin",
     "output_type": "stream",
     "text": [
      "enter a string rupesh\n"
     ]
    },
    {
     "name": "stdout",
     "output_type": "stream",
     "text": [
      "The number of vowels is:2\n"
     ]
    }
   ],
   "source": [
    "str1=input(\"enter a string\")\n",
    "vowels=str1.count('a')+str1.count(\"e\")+str1.count('i')+str1.count('o')+str1.count('u')\n",
    "print(f'The number of vowels is:{vowels}')"
   ]
  },
  {
   "cell_type": "markdown",
   "id": "5a97c670-27d9-4fb4-bad1-bd2c57e29528",
   "metadata": {},
   "source": [
    "## Question 17 write a program to print the message if string is uppercase ,lowercase,mixed.\n"
   ]
  },
  {
   "cell_type": "code",
   "execution_count": 60,
   "id": "590378bf-a094-45cc-bc10-abeb64fd50cc",
   "metadata": {},
   "outputs": [
    {
     "name": "stdin",
     "output_type": "stream",
     "text": [
      "Enter a string au\n"
     ]
    },
    {
     "name": "stdout",
     "output_type": "stream",
     "text": [
      "The string is modrate\n"
     ]
    }
   ],
   "source": [
    "str1=input(\"Enter a string\")\n",
    "if str1.isupper():\n",
    "    print(\"The upper case is\")\n",
    "elif str.islower():\n",
    "    print(\"The lower case is\")\n",
    "else:\n",
    "    print(\"The string is modrate\")"
   ]
  },
  {
   "cell_type": "markdown",
   "id": "eac200d6-84c2-4b03-bcf5-7ecc5f7d42d9",
   "metadata": {},
   "source": [
    "## Question 18 Wap to check the string is subset or not.\n"
   ]
  },
  {
   "cell_type": "code",
   "execution_count": 49,
   "id": "4092bb65-c687-4a85-9780-4601b30ddeed",
   "metadata": {},
   "outputs": [
    {
     "name": "stdin",
     "output_type": "stream",
     "text": [
      "enter a string apple\n",
      "enter a substring pple\n"
     ]
    },
    {
     "name": "stdout",
     "output_type": "stream",
     "text": [
      "substring  found\n"
     ]
    }
   ],
   "source": [
    "s=input(\"enter a string\")\n",
    "m=input(\"enter a substring\")\n",
    "if m in s:\n",
    "    print(\"substring  found\")\n",
    "else:\n",
    "    print(\"Substring is not found\")"
   ]
  },
  {
   "cell_type": "markdown",
   "id": "682d8a14-5c82-4076-ba22-07df65ce3091",
   "metadata": {},
   "source": [
    "## Question 19 Wap to check the last digit is 3.\n"
   ]
  },
  {
   "cell_type": "code",
   "execution_count": 64,
   "id": "fdc2a7ba-38a7-4fc8-9a17-347c664bbfd0",
   "metadata": {},
   "outputs": [
    {
     "name": "stdin",
     "output_type": "stream",
     "text": [
      "enter a number 123\n"
     ]
    },
    {
     "name": "stdout",
     "output_type": "stream",
     "text": [
      "last digit is 3\n"
     ]
    }
   ],
   "source": [
    "num=int(input(\"enter a number\"))\n",
    "m=str(num)\n",
    "if m[-1]=='3': # if num %10==3\n",
    "    print(\"last digit is 3\")\n",
    "else:\n",
    "    print(\"the last digit is not 3\")"
   ]
  },
  {
   "cell_type": "markdown",
   "id": "a5233fe5-6bec-47dc-8b98-2e3f1b4b78a7",
   "metadata": {},
   "source": [
    "## Question 20 Wap to compare two string is equal or not"
   ]
  },
  {
   "cell_type": "code",
   "execution_count": 4,
   "id": "0d3580ee-6128-452b-a998-4daa304d94b4",
   "metadata": {},
   "outputs": [
    {
     "name": "stdin",
     "output_type": "stream",
     "text": [
      "enter  string rupesh\n",
      "enter a string rupesh\n"
     ]
    },
    {
     "name": "stdout",
     "output_type": "stream",
     "text": [
      "The string is equal\n"
     ]
    }
   ],
   "source": [
    "n=input(\"enter  string\")\n",
    "m=input(\"enter a string\")\n",
    "if n==m:\n",
    "    print(\"The string is equal\")\n",
    "else:\n",
    "    print(\"The string is not same\")"
   ]
  },
  {
   "cell_type": "markdown",
   "id": "702f6ddd-3ed6-405a-9120-da66bd03196c",
   "metadata": {},
   "source": [
    "## Question 21 Wap to check whether the input string contains both letters and digits."
   ]
  },
  {
   "cell_type": "code",
   "execution_count": 7,
   "id": "e6ac1b2b-3cc1-4954-955e-9b52814bdca0",
   "metadata": {},
   "outputs": [
    {
     "name": "stdin",
     "output_type": "stream",
     "text": [
      "enter a stirng kaise123\n"
     ]
    },
    {
     "name": "stdout",
     "output_type": "stream",
     "text": [
      "it contains number and letters both\n"
     ]
    }
   ],
   "source": [
    "s=input(\"enter a stirng\")\n",
    "if any(t.isalpha() for t in s ) and any(m.isdigit() for m in s):\n",
    "    print(\"it contains number and letters both\")\n",
    "else:\n",
    "    print('not both letter and number')"
   ]
  },
  {
   "cell_type": "markdown",
   "id": "82e54152-5708-4592-b0fc-1f5d794649a2",
   "metadata": {},
   "source": [
    "## Question 22 Wap to check the two string is anagrams or not."
   ]
  },
  {
   "cell_type": "code",
   "execution_count": 10,
   "id": "71af43d9-98ba-4957-9249-b1f30e9adfb3",
   "metadata": {},
   "outputs": [
    {
     "name": "stdin",
     "output_type": "stream",
     "text": [
      "Enter a string lisent\n",
      "Enter a second string silent\n"
     ]
    },
    {
     "name": "stdout",
     "output_type": "stream",
     "text": [
      "The string is anagrams\n"
     ]
    }
   ],
   "source": [
    "# Anagrams is a technique to that check two string the letter are same or not\n",
    "first=input(\"Enter a string\")\n",
    "second=input(\"Enter a second string\")\n",
    "if sorted(first) == sorted(second):\n",
    "    print(\"The string is anagrams\")\n",
    "else:\n",
    "    print(\"The string is not anagrams\")"
   ]
  },
  {
   "cell_type": "markdown",
   "id": "2e3db48a-20a5-40fd-81de-e17990f3c2d8",
   "metadata": {},
   "source": [
    "## Question 23 Wap to add two list and remove duplicates.\n"
   ]
  },
  {
   "cell_type": "code",
   "execution_count": 13,
   "id": "db66ad67-04d1-4cb8-be0a-6019ebbc0418",
   "metadata": {},
   "outputs": [
    {
     "name": "stdin",
     "output_type": "stream",
     "text": [
      "enter first list 1,2,3,4,5,6\n",
      "enter second list 1,1,2,2,3,4,5,6,7,8,9\n"
     ]
    },
    {
     "name": "stdout",
     "output_type": "stream",
     "text": [
      "The merged list is\n",
      "[1, 2, 3, 4, 5, 6, 7, 8, 9]\n"
     ]
    }
   ],
   "source": [
    "lis1=eval(input(\"enter first list\"))\n",
    "lis2=eval(input(\"enter second list\"))\n",
    "result=list(set(lis1+lis2))\n",
    "print(f'The merged list is\\n{result}')"
   ]
  },
  {
   "cell_type": "markdown",
   "id": "dbde51f7-a639-4c87-afea-72db847666ee",
   "metadata": {},
   "source": [
    "## Question 24 Wap to compare the length of two list.\n"
   ]
  },
  {
   "cell_type": "code",
   "execution_count": 16,
   "id": "d7272366-105b-4d20-bdd4-f0cc85329a08",
   "metadata": {},
   "outputs": [
    {
     "name": "stdin",
     "output_type": "stream",
     "text": [
      "enter a list 1,2,3,5,\n",
      "enter a second list 1,2,3,5,\n"
     ]
    },
    {
     "name": "stdout",
     "output_type": "stream",
     "text": [
      "the list is equal\n"
     ]
    }
   ],
   "source": [
    "lis1=eval(input(\"enter a list\"))\n",
    "lis2=eval(input(\"enter a second list\"))\n",
    "if len(lis1)>len(lis2):\n",
    "    print(\"The first list is greater\")\n",
    "elif len(lis1)==len(lis2):\n",
    "    print(\"the list is equal\")\n",
    "else:\n",
    "    print(\"the second list is greater\")"
   ]
  },
  {
   "cell_type": "markdown",
   "id": "b4f16316-732e-4106-8b41-fd8344230abf",
   "metadata": {},
   "source": [
    "## Question 25 Wap to check the second last digit is divisible by 2 or not.\n"
   ]
  },
  {
   "cell_type": "code",
   "execution_count": 34,
   "id": "35e6d1c8-0921-4ac9-9d7b-96c146b4d5a3",
   "metadata": {},
   "outputs": [
    {
     "name": "stdin",
     "output_type": "stream",
     "text": [
      "enter a number 892\n"
     ]
    },
    {
     "name": "stdout",
     "output_type": "stream",
     "text": [
      "it is not possible\n"
     ]
    }
   ],
   "source": [
    "num=int(input(\"enter a number\"))\n",
    "if int(str(num)[-2]) %2==0:\n",
    "    print('it is divisible by 2')\n",
    "else:\n",
    "    print(\"it is not possible\")"
   ]
  },
  {
   "cell_type": "markdown",
   "id": "9d721560-b191-4946-bec1-0257cd3c566c",
   "metadata": {},
   "source": [
    "## Question 26. Wap to create an acronym from a given sentence."
   ]
  },
  {
   "cell_type": "code",
   "execution_count": 45,
   "id": "475b6887-0cd9-4d91-bc4e-9413530984d1",
   "metadata": {},
   "outputs": [
    {
     "name": "stdin",
     "output_type": "stream",
     "text": [
      "enter a string indian space reasearch center\n"
     ]
    },
    {
     "name": "stdout",
     "output_type": "stream",
     "text": [
      "ISRC\n"
     ]
    }
   ],
   "source": [
    "strn=input(\"enter a string\")\n",
    "word=strn.split()\n",
    "acronym=''.join(s[0].upper() for s in word)\n",
    "print(acronym)"
   ]
  },
  {
   "cell_type": "markdown",
   "id": "ed24f6b9-e4a0-45d0-b556-015fca43342c",
   "metadata": {},
   "source": [
    "## Question 27. Wap to count uppercase,lowercase,digit sand special character in a string."
   ]
  },
  {
   "cell_type": "code",
   "execution_count": 57,
   "id": "fd9655fd-60d3-46f2-9081-ab9993754702",
   "metadata": {},
   "outputs": [
    {
     "name": "stdin",
     "output_type": "stream",
     "text": [
      "enter a string Hello kaise ho 125 @@@@\n"
     ]
    },
    {
     "name": "stdout",
     "output_type": "stream",
     "text": [
      " Total Uppercase=1\n",
      " Total Lowercase=11\n",
      " Total Digit=3\n",
      " Total Special=4\n"
     ]
    }
   ],
   "source": [
    "s=input(\"enter a string\").replace(' ','')\n",
    "up=sum(1 for a in s if a.isupper() )\n",
    "lw=sum(1 for a in s if a.islower() )\n",
    "dig=sum(1 for a in s if a.isdigit() )\n",
    "spe=len(s)-(up+lw+dig)\n",
    "\n",
    "print(f' Total Uppercase={up}')\n",
    "print(f' Total Lowercase={lw}')\n",
    "print(f' Total Digit={dig}')\n",
    "print(f' Total Special={spe}')"
   ]
  },
  {
   "cell_type": "markdown",
   "id": "badef705-b1ce-4dc4-8f1c-50f3f28765e6",
   "metadata": {},
   "source": [
    "## Question 28. Wap to print the words of a sentence in reverse order.\n"
   ]
  },
  {
   "cell_type": "code",
   "execution_count": 67,
   "id": "441c8806-0b13-4110-96e1-70865a182a14",
   "metadata": {},
   "outputs": [
    {
     "name": "stdin",
     "output_type": "stream",
     "text": [
      "enter  a sentence hello kaise hai\n"
     ]
    },
    {
     "name": "stdout",
     "output_type": "stream",
     "text": [
      "hai kaise hello\n"
     ]
    }
   ],
   "source": [
    "s=input(\"enter  a sentence\").split()\n",
    "p=' '.join(s[::-1])\n",
    "print(p)"
   ]
  },
  {
   "cell_type": "markdown",
   "id": "82fff510-80c1-48fa-9386-eb0d91dcf56d",
   "metadata": {},
   "source": [
    "## Question 29.Write a Python program that takes student names and their marks in 3 subjects (entered as a dictionary), then:\n",
    "## Calculate each student’s average\n",
    "## Find the topper\n",
    "## Print results in a nice format\n"
   ]
  },
  {
   "cell_type": "code",
   "execution_count": 80,
   "id": "724d1647-8774-4b2b-b627-468605258458",
   "metadata": {},
   "outputs": [
    {
     "name": "stdout",
     "output_type": "stream",
     "text": [
      "Student Performance report\n",
      "*************************\n",
      "Rupesh --> Average Marks:93.25\n",
      "Rupam --> Average Marks:94.00\n",
      "Ram --> Average Marks:89.75\n",
      "\n",
      "Topper:Rupam with average 94.0\n"
     ]
    }
   ],
   "source": [
    "student={\n",
    "    'Rupesh':[89,98,92,94],\n",
    "    'Rupam':[97,89,96,94],\n",
    "    'Ram':[96,93,92,78]\n",
    "}\n",
    "avg_1={name:sum(marks)/len(marks) for name,marks in student.items() }\n",
    "topper=max(avg_1,key=avg_1.get)\n",
    "\n",
    "print(\"Student Performance report\")\n",
    "print(\"*************************\")\n",
    "for name,avg in avg_1.items():\n",
    "    print(f'{name} --> Average Marks:{avg:.2f}')\n",
    "print(f'\\nTopper:{topper} with average {avg_1[topper]}')\n"
   ]
  },
  {
   "cell_type": "markdown",
   "id": "fde17500-4491-48ac-9c4b-a40454b497e5",
   "metadata": {},
   "source": [
    "## Question 30. Wap to find the second largest number in a list(no loop used)¶"
   ]
  },
  {
   "cell_type": "code",
   "execution_count": 114,
   "id": "5db5f09b-347d-45f0-8a6d-84ff5a64f7f0",
   "metadata": {},
   "outputs": [
    {
     "name": "stdout",
     "output_type": "stream",
     "text": [
      "45\n",
      "30\n"
     ]
    }
   ],
   "source": [
    "lst=[10,25,30,45,55]\n",
    "largest=max(lst)\n",
    "lst.remove(largest)\n",
    "sec_largest=max(lst)\n",
    "print(sec_largest)\n",
    "\n",
    "## we can do this with a different way \n",
    "lst.sort()\n",
    "print(lst[-2])"
   ]
  }
 ],
 "metadata": {
  "kernelspec": {
   "display_name": "Python [conda env:base] *",
   "language": "python",
   "name": "conda-base-py"
  },
  "language_info": {
   "codemirror_mode": {
    "name": "ipython",
    "version": 3
   },
   "file_extension": ".py",
   "mimetype": "text/x-python",
   "name": "python",
   "nbconvert_exporter": "python",
   "pygments_lexer": "ipython3",
   "version": "3.12.7"
  }
 },
 "nbformat": 4,
 "nbformat_minor": 5
}
